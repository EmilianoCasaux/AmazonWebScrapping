{
 "cells": [
  {
   "cell_type": "code",
   "execution_count": 1,
   "id": "fa122494-1a1e-4a91-b5e5-040c4d0f8e12",
   "metadata": {},
   "outputs": [],
   "source": [
    "# import libraries \n",
    "\n",
    "from bs4 import BeautifulSoup\n",
    "import requests\n",
    "import time\n",
    "import datetime\n",
    "\n",
    "import smtplib"
   ]
  },
  {
   "cell_type": "code",
   "execution_count": 3,
   "id": "9a4bec88-d87b-4872-9a0d-3b9331c8ba8a",
   "metadata": {},
   "outputs": [
    {
     "name": "stdout",
     "output_type": "stream",
     "text": [
      "Funny Got Data MIS Data Systems Business Analyst T-Shirt\n",
      "$16.99\n"
     ]
    }
   ],
   "source": [
    "# Connect to Website and pull in data\n",
    "\n",
    "URL = 'https://www.amazon.com/Funny-Data-Systems-Business-Analyst/dp/B07FNW9FGJ/ref=sr_1_3?dchild=1&keywords=data%2Banalyst%2Btshirt&qid=1626655184&sr=8-3&customId=B0752XJYNL&th=1'\n",
    "\n",
    "headers = {\"User-Agent\": \"Mozilla/5.0 (Windows NT 10.0; Win64; x64) AppleWebKit/537.36 (KHTML, like Gecko) Chrome/126.0.0.0 Safari/537.36\", \"Accept-Encoding\":\"gzip, deflate\", \"Accept\":\"text/html,application/xhtml+xml,application/xml;q=0.9,*/*;q=0.8\", \"DNT\":\"1\",\"Connection\":\"close\", \"Upgrade-Insecure-Requests\":\"1\"}\n",
    "\n",
    "page = requests.get(URL, headers=headers)\n",
    "\n",
    "soup1 = BeautifulSoup(page.content, \"html.parser\")\n",
    "\n",
    "soup2 = BeautifulSoup(soup1.prettify(), \"html.parser\")\n",
    "\n",
    "# Get the product title\n",
    "\n",
    "title = soup2.find(id='productTitle').get_text()\n",
    "title=title.strip()\n",
    "\n",
    "# Get the product price\n",
    "\n",
    "price1 = soup2.find('span',class_=\"a-price aok-align-center reinventPricePriceToPayMargin priceToPay\")\n",
    "price=price1.find('span',{'aria-hidden': 'true'}).get_text()\n",
    "price = ''.join(price.split())\n",
    "\n",
    "\n",
    "print(title)\n",
    "print(price)"
   ]
  },
  {
   "cell_type": "code",
   "execution_count": 41,
   "id": "ed548f58-2cb5-4f6f-885f-d9ce88ab0441",
   "metadata": {},
   "outputs": [],
   "source": [
    "# Create a csv with the info that we are pulling from amazon\n",
    "import datetime\n",
    "import csv\n",
    "today=datetime.datetime.now()\n",
    "today = today.strftime(\"%Y-%m-%d %H:%M:%S\")\n",
    "header=['Product','Price','Date']\n",
    "data=[title,price,today]\n",
    "type(data)\n",
    "with open('AmazonWebScrapperDataset.csv','w', newline='',encoding='UTF8') as f:\n",
    "    writer= csv.writer(f)\n",
    "    writer.writerow(header)\n",
    "    writer.writerow(data)\n"
   ]
  },
  {
   "cell_type": "code",
   "execution_count": 43,
   "id": "9c888d48-5c00-4145-afd2-a5b7d89eb368",
   "metadata": {},
   "outputs": [
    {
     "name": "stdout",
     "output_type": "stream",
     "text": [
      "                                             Product   Price  \\\n",
      "0  Funny Got Data MIS Data Systems Business Analy...  $16.99   \n",
      "\n",
      "                  Date  \n",
      "0  2024-07-19 15:39:59  \n"
     ]
    }
   ],
   "source": [
    "#We check the csv that we created\n",
    "import pandas as pd\n",
    "df=pd.read_csv(r'C:\\Users\\emica\\AmazonWebScrapperDataset.csv')\n",
    "print(df)"
   ]
  },
  {
   "cell_type": "code",
   "execution_count": 62,
   "id": "f2e3217d-2960-4ea3-b90f-f6c639a2ae50",
   "metadata": {},
   "outputs": [],
   "source": [
    "#Now we create the function that is going to pull the data from Amazon and add it to the csv file that we created\n",
    "def check_price():\n",
    "                URL = 'https://www.amazon.com/Funny-Data-Systems-Business-Analyst/dp/B07FNW9FGJ/ref=sr_1_3?dchild=1&keywords=data%2Banalyst%2Btshirt&qid=1626655184&sr=8-3&customId=B0752XJYNL&th=1'\n",
    "\n",
    "                headers = {\"User-Agent\": \"Mozilla/5.0 (Windows NT 10.0; Win64; x64) AppleWebKit/537.36 (KHTML, like Gecko) Chrome/126.0.0.0 Safari/537.36\", \"Accept-Encoding\":\"gzip, deflate\", \"Accept\":\"text/html,application/xhtml+xml,application/xml;q=0.9,*/*;q=0.8\", \"DNT\":\"1\",\"Connection\":\"close\", \"Upgrade-Insecure-Requests\":\"1\"}\n",
    "\n",
    "                page = requests.get(URL, headers=headers)\n",
    "                \n",
    "                soup1 = BeautifulSoup(page.content, \"html.parser\")\n",
    "                \n",
    "                soup2 = BeautifulSoup(soup1.prettify(), \"html.parser\")\n",
    "                \n",
    "                title = soup2.find(id='productTitle').get_text()\n",
    "                title=title.strip()\n",
    "                \n",
    "                price1 = soup2.find('span',class_=\"a-price aok-align-center reinventPricePriceToPayMargin priceToPay\")\n",
    "                price=price1.find('span',{'aria-hidden': 'true'}).get_text()\n",
    "                price = ''.join(price.split())\n",
    "                import datetime\n",
    "\n",
    "                today=datetime.datetime.now()\n",
    "                today = today.strftime(\"%Y-%m-%d %H:%M:%S\")\n",
    "\n",
    "                import csv\n",
    "                header=['Product','Price','Date']\n",
    "                data=[title,price,today]\n",
    "\n",
    "                with open('AmazonWebScrapperDataset.csv','a+', newline='',encoding='UTF8') as f:\n",
    "                    writer= csv.writer(f)\n",
    "                    writer.writerow(data)      \n",
    "    "
   ]
  },
  {
   "cell_type": "code",
   "execution_count": 64,
   "id": "54244edb-bc46-46e7-b626-2e02bb9cc482",
   "metadata": {},
   "outputs": [
    {
     "ename": "KeyboardInterrupt",
     "evalue": "",
     "output_type": "error",
     "traceback": [
      "\u001b[1;31m---------------------------------------------------------------------------\u001b[0m",
      "\u001b[1;31mKeyboardInterrupt\u001b[0m                         Traceback (most recent call last)",
      "Cell \u001b[1;32mIn[64], line 4\u001b[0m\n\u001b[0;32m      2\u001b[0m \u001b[38;5;28;01mwhile\u001b[39;00m(\u001b[38;5;28;01mTrue\u001b[39;00m):\n\u001b[0;32m      3\u001b[0m     check_price()\n\u001b[1;32m----> 4\u001b[0m     time\u001b[38;5;241m.\u001b[39msleep(\u001b[38;5;241m30\u001b[39m)\n",
      "\u001b[1;31mKeyboardInterrupt\u001b[0m: "
     ]
    }
   ],
   "source": [
    "#We set a frequency at which our function will be executed.\n",
    "while(True):\n",
    "    check_price()\n",
    "    time.sleep(30)"
   ]
  },
  {
   "cell_type": "code",
   "execution_count": 66,
   "id": "40eba835-34f6-4c97-b2e2-b2cbb6d2496f",
   "metadata": {},
   "outputs": [
    {
     "name": "stdout",
     "output_type": "stream",
     "text": [
      "                                              Product   Price  \\\n",
      "0   Funny Got Data MIS Data Systems Business Analy...  $16.99   \n",
      "1   Funny Got Data MIS Data Systems Business Analy...  $16.99   \n",
      "2   Funny Got Data MIS Data Systems Business Analy...  $16.99   \n",
      "3   Funny Got Data MIS Data Systems Business Analy...  $16.99   \n",
      "4   Funny Got Data MIS Data Systems Business Analy...  $16.99   \n",
      "5   Funny Got Data MIS Data Systems Business Analy...  $16.99   \n",
      "6   Funny Got Data MIS Data Systems Business Analy...  $16.99   \n",
      "7   Funny Got Data MIS Data Systems Business Analy...  $16.99   \n",
      "8   Funny Got Data MIS Data Systems Business Analy...  $16.99   \n",
      "9   Funny Got Data MIS Data Systems Business Analy...  $16.99   \n",
      "10  Funny Got Data MIS Data Systems Business Analy...  $16.99   \n",
      "11  Funny Got Data MIS Data Systems Business Analy...  $16.99   \n",
      "12  Funny Got Data MIS Data Systems Business Analy...  $16.99   \n",
      "13  Funny Got Data MIS Data Systems Business Analy...  $16.99   \n",
      "14  Funny Got Data MIS Data Systems Business Analy...  $16.99   \n",
      "15  Funny Got Data MIS Data Systems Business Analy...  $16.99   \n",
      "16  Funny Got Data MIS Data Systems Business Analy...  $16.99   \n",
      "17  Funny Got Data MIS Data Systems Business Analy...  $16.99   \n",
      "18  Funny Got Data MIS Data Systems Business Analy...  $16.99   \n",
      "19  Funny Got Data MIS Data Systems Business Analy...  $16.99   \n",
      "20  Funny Got Data MIS Data Systems Business Analy...  $16.99   \n",
      "21  Funny Got Data MIS Data Systems Business Analy...  $16.99   \n",
      "\n",
      "                   Date  \n",
      "0   2024-07-19 15:39:59  \n",
      "1   2024-07-19 15:40:11  \n",
      "2   2024-07-19 15:40:44  \n",
      "3   2024-07-19 15:41:20  \n",
      "4   2024-07-19 15:41:54  \n",
      "5   2024-07-19 15:42:27  \n",
      "6   2024-07-19 15:43:01  \n",
      "7   2024-07-19 15:43:34  \n",
      "8   2024-07-19 15:44:07  \n",
      "9   2024-07-19 15:44:40  \n",
      "10  2024-07-19 15:45:14  \n",
      "11  2024-07-19 15:45:47  \n",
      "12  2024-07-19 15:46:21  \n",
      "13  2024-07-19 15:46:53  \n",
      "14  2024-07-19 15:47:27  \n",
      "15  2024-07-19 15:48:00  \n",
      "16  2024-07-19 15:48:33  \n",
      "17  2024-07-19 15:49:06  \n",
      "18  2024-07-19 15:49:39  \n",
      "19  2024-07-19 16:03:41  \n",
      "20  2024-07-19 16:05:48  \n",
      "21  2024-07-19 16:05:57  \n"
     ]
    }
   ],
   "source": [
    "#We check our CSV file again\n",
    "import pandas as pd\n",
    "df=pd.read_csv(r'C:\\Users\\emica\\AmazonWebScrapperDataset.csv')\n",
    "print(df)"
   ]
  },
  {
   "cell_type": "code",
   "execution_count": null,
   "id": "250d87f5-493c-4c1a-826d-0e2b598f7a2d",
   "metadata": {},
   "outputs": [],
   "source": []
  }
 ],
 "metadata": {
  "kernelspec": {
   "display_name": "Python 3 (ipykernel)",
   "language": "python",
   "name": "python3"
  },
  "language_info": {
   "codemirror_mode": {
    "name": "ipython",
    "version": 3
   },
   "file_extension": ".py",
   "mimetype": "text/x-python",
   "name": "python",
   "nbconvert_exporter": "python",
   "pygments_lexer": "ipython3",
   "version": "3.11.7"
  }
 },
 "nbformat": 4,
 "nbformat_minor": 5
}
